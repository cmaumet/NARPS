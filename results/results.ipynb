{
 "cells": [
  {
   "cell_type": "code",
   "execution_count": 1,
   "metadata": {},
   "outputs": [],
   "source": [
    "import os\n",
    "import json\n",
    "import nibabel as nib\n",
    "from nilearn.image import math_img\n",
    "import numpy as np\n",
    "from nibabel.processing import resample_from_to"
   ]
  },
  {
   "cell_type": "code",
   "execution_count": 2,
   "metadata": {},
   "outputs": [],
   "source": [
    "# Load config file with path to raw, derived and output data\n",
    "config_file = os.path.join(os.path.abspath(''), os.pardir, 'scripts', 'config.json')\n",
    "with open(config_file) as json_data:\n",
    "    config = json.load(json_data)\n",
    "\n",
    "out_dir = config['output_dir']"
   ]
  },
  {
   "cell_type": "code",
   "execution_count": 3,
   "metadata": {},
   "outputs": [],
   "source": [
    "res_dir = os.path.join(out_dir, 'results')\n",
    "if not os.path.isdir(res_dir):\n",
    "    os.mkdir(res_dir)"
   ]
  },
  {
   "cell_type": "code",
   "execution_count": 4,
   "metadata": {},
   "outputs": [],
   "source": [
    "fsl_dir = os.environ['FSLDIR']\n",
    "cort_atlas_file = os.path.join(fsl_dir, 'data', 'atlases', 'HarvardOxford', 'HarvardOxford-cort-maxprob-thr0-2mm.nii.gz')\n",
    "sub_atlas_file = os.path.join(fsl_dir, 'data', 'atlases', 'HarvardOxford', 'HarvardOxford-sub-maxprob-thr0-2mm.nii.gz')"
   ]
  },
  {
   "cell_type": "code",
   "execution_count": 5,
   "metadata": {},
   "outputs": [],
   "source": [
    "cort_atlas = nib.load(cort_atlas_file)\n",
    "sub_atlas = nib.load(sub_atlas_file)"
   ]
  },
  {
   "cell_type": "code",
   "execution_count": 6,
   "metadata": {},
   "outputs": [
    {
     "name": "stdout",
     "output_type": "stream",
     "text": [
      "SPM T thresh\n",
      "64\n",
      "hypo 1 thresh\n",
      "64\n",
      "4.337327\n",
      "64\n"
     ]
    }
   ],
   "source": [
    "SPM_dir = os.path.join(out_dir, 'SPM', 'level3')\n",
    "gain_dir = os.path.join(SPM_dir, 'gain')\n",
    "loss_dir = os.path.join(SPM_dir, 'loss')\n",
    "\n",
    "# Boolean image including thresholded activation > 0\n",
    "print('SPM T thresh')\n",
    "SPMT1_thresh = nib.load(os.path.join(gain_dir, 'spmT_0001_thresh.nii'))\n",
    "SPMT1_thresh = math_img('np.nan_to_num(img1, 0)', img1=SPMT1_thresh)\n",
    "print(sum(sum(sum(np.greater(SPMT1_thresh.get_data(), 0)))))\n",
    "\n",
    "\n",
    "print('hypo 1 thresh')\n",
    "hypo1_thresh = nib.load(os.path.join(gain_dir, 'hypo1_thresh.nii'))\n",
    "hypo1_thresh = math_img('np.nan_to_num(img1, 0)', img1=hypo1_thresh)\n",
    "print(sum(sum(sum(np.greater(hypo1_thresh.get_data(), 0)))))\n",
    "print(np.amin(hypo1_thresh.get_data()[hypo1_thresh.get_data()!=0]))\n",
    "\n",
    "\n",
    "\n",
    "gain_indif = math_img('np.greater(np.nan_to_num(img1, 0), 0)',\n",
    "                      img1=nib.load(os.path.join(gain_dir, 'hypo1_thresh.nii')))\n",
    "print(sum(sum(sum(gain_indif.get_data()))))\n",
    "\n",
    "\n",
    "gain_range = math_img('np.greater(np.nan_to_num(img1, 0), 0)',\n",
    "                      img1=nib.load(os.path.join(gain_dir, 'hypo2_thresh.nii')))\n",
    "\n",
    "loss_indif_neg = math_img('np.greater(np.nan_to_num(img1, 0), 0)',\n",
    "                          img1 = nib.load(os.path.join(loss_dir, 'hypo5_thresh.nii')))\n",
    "loss_range_neg = math_img('np.greater(np.nan_to_num(img1, 0), 0)',\n",
    "                          img1=nib.load(os.path.join(loss_dir, 'hypo6_thresh.nii')))\n",
    "loss_indif = math_img('np.greater(np.nan_to_num(img1, 0), 0)',\n",
    "                      img1=nib.load(os.path.join(loss_dir, 'hypo7_thresh.nii')))\n",
    "loss_range = math_img('np.greater(np.nan_to_num(img1, 0), 0)',\n",
    "                      img1=nib.load(os.path.join(loss_dir, 'hypo8_thresh.nii')))\n",
    "loss_range_vs_indif = math_img('np.greater(np.nan_to_num(img1, 0), 0)',\n",
    "                               img1=nib.load(os.path.join(loss_dir, 'hypo9_thresh.nii')))"
   ]
  },
  {
   "cell_type": "code",
   "execution_count": 7,
   "metadata": {},
   "outputs": [
    {
     "name": "stdout",
     "output_type": "stream",
     "text": [
      "(91, 109, 91)\n",
      "(91, 109, 91)\n",
      "(97, 115, 81)\n",
      "(97, 115, 81)\n",
      "(97, 115, 81)\n"
     ]
    }
   ],
   "source": [
    "print(cort_atlas.header.get_data_shape())\n",
    "print(sub_atlas.header.get_data_shape())\n",
    "print(gain_indif.header.get_data_shape())\n",
    "\n",
    "# Reslice atlas on SPM's MNI default resolution using nearest neighbours\n",
    "cort_atlas_spm = resample_from_to(cort_atlas, gain_indif, order=0)\n",
    "cort_atlas_spm.to_filename(os.path.join(res_dir, 'cort_atlas.nii.gz'))\n",
    "\n",
    "sub_atlas_spm = resample_from_to(sub_atlas, gain_indif, order=0)\n",
    "sub_atlas_spm.to_filename(os.path.join(res_dir, 'sub_atlas.nii.gz'))\n",
    "print(cort_atlas_spm.header.get_data_shape())\n",
    "print(sub_atlas_spm.header.get_data_shape())"
   ]
  },
  {
   "cell_type": "code",
   "execution_count": 8,
   "metadata": {},
   "outputs": [],
   "source": [
    "VMPFC = math_img(\"np.multiply(atlas == 25, atlas)\", atlas=cort_atlas_spm)\n",
    "VMPFC.to_filename(os.path.join(res_dir, 'VMPFC.nii.gz'))\n",
    "VStriatum = math_img(\"np.multiply(np.logical_or(atlas == 11, atlas == 21), atlas)\", atlas=sub_atlas_spm)\n",
    "VStriatum.to_filename(os.path.join(res_dir, 'VStriatum.nii.gz'))\n",
    "Amygdala = math_img(\"np.multiply(np.logical_or(atlas == 10, atlas == 20), atlas)\", atlas=sub_atlas_spm)\n",
    "Amygdala.to_filename(os.path.join(res_dir, 'Amygdala.nii.gz'))\n",
    "\n",
    "# Amygdala = np.logical_or(atlas_spm.get_data() == 10, atlas_spm.get_data() == 20)"
   ]
  },
  {
   "cell_type": "code",
   "execution_count": 9,
   "metadata": {},
   "outputs": [],
   "source": [
    "import nilearn"
   ]
  },
  {
   "cell_type": "code",
   "execution_count": 10,
   "metadata": {},
   "outputs": [
    {
     "name": "stdout",
     "output_type": "stream",
     "text": [
      "1. Parametric effect of gain: Positive effect in ventromedial PFC - for the equal indifference group\n",
      "0\n",
      "(array([], dtype=int64), array([], dtype=int64), array([], dtype=int64))\n",
      "2. Parametric effect of gain: Positive effect in ventromedial PFC - for the equal range group\n",
      "4\n",
      "3. Parametric effect of gain: Positive effect in ventral striatum - for the equal indifference group\n",
      "0\n",
      "4. Parametric effect of gain: Positive effect in ventral striatum - for the equal range group\n",
      "5\n",
      "5. Parametric effect of loss: Negative effect in VMPFC - for the equal indifference group\n",
      "318\n",
      "6. Parametric effect of loss: Negative effect in VMPFC - for the equal range group\n",
      "0\n",
      "7. Parametric effect of loss: Positive effect in amygdala - for the equal indifference group\n",
      "0\n",
      "8. Parametric effect of loss: Positive effect in amygdala - for the equal range group\n",
      "0\n",
      "9. Equal range vs. equal indifference: Greater response to losses in amygdala for equal range condition vs. equal indifference condition\n",
      "0\n"
     ]
    }
   ],
   "source": [
    "# 1. Parametric effect of gain: Positive effect in ventromedial PFC - for the equal indifference group\n",
    "print('1. Parametric effect of gain: Positive effect in ventromedial PFC - for the equal indifference group')\n",
    "hyp1 = math_img(\"np.logical_and(np.greater(gain_indif, 0), np.greater(VMPFC, 0))\", VMPFC=VMPFC, gain_indif=gain_indif)\n",
    "print(sum(sum(sum(hyp1.get_data()))))\n",
    "print(np.nonzero(hyp1.get_data()))\n",
    "hyp1_img = math_img(\"np.multiply(hyp1, region)\", hyp1=hyp1, region=VMPFC)\n",
    "hyp1_img.to_filename(os.path.join(res_dir, 'hyp1_interest.nii.gz'))\n",
    "\n",
    "# 2. Parametric effect of gain: Positive effect in ventromedial PFC - for the equal range group\n",
    "print('2. Parametric effect of gain: Positive effect in ventromedial PFC - for the equal range group')\n",
    "hyp2 = math_img(\"np.logical_and(VMPFC, gain_range > 0)\", VMPFC=VMPFC, gain_range=gain_range)\n",
    "print(sum(sum(sum(hyp2.get_data()))))\n",
    "\n",
    "# 3. Parametric effect of gain: Positive effect in ventral striatum - for the equal indifference group\n",
    "print('3. Parametric effect of gain: Positive effect in ventral striatum - for the equal indifference group')\n",
    "hyp3 = math_img(\"np.logical_and(VStriatum, gain_indif > 0)\", VStriatum=VStriatum, gain_indif=gain_indif)\n",
    "print(sum(sum(sum(hyp3.get_data()))))\n",
    "\n",
    "# 4. Parametric effect of gain: Positive effect in ventral striatum - for the equal range group\n",
    "print('4. Parametric effect of gain: Positive effect in ventral striatum - for the equal range group')\n",
    "hyp4 = math_img(\"np.logical_and(VStriatum, gain_range > 0)\", VStriatum=VStriatum, gain_range=gain_range)\n",
    "print(sum(sum(sum(hyp4.get_data()))))\n",
    "\n",
    "# 5. Parametric effect of loss: Negative effect in VMPFC - for the equal indifference group\n",
    "print('5. Parametric effect of loss: Negative effect in VMPFC - for the equal indifference group')\n",
    "hyp5 = math_img(\"np.logical_and(VMPFC, loss_indif_neg > 0)\", VMPFC=VMPFC, loss_indif_neg=loss_indif_neg)\n",
    "print(sum(sum(sum(hyp5.get_data()))))\n",
    "\n",
    "# 6. Parametric effect of loss: Negative effect in VMPFC - for the equal range group\n",
    "print('6. Parametric effect of loss: Negative effect in VMPFC - for the equal range group')\n",
    "hyp6 = math_img(\"np.logical_and(VMPFC, loss_range_neg > 0)\", VMPFC=VMPFC, loss_range_neg=loss_range_neg)\n",
    "print(sum(sum(sum(hyp6.get_data()))))\n",
    "\n",
    "# 7. Parametric effect of loss: Positive effect in amygdala - for the equal indifference group\n",
    "print('7. Parametric effect of loss: Positive effect in amygdala - for the equal indifference group')\n",
    "hyp7 = math_img(\"np.logical_and(Amygdala, loss_indif > 0)\", Amygdala=Amygdala, loss_indif=loss_indif)\n",
    "print(sum(sum(sum(hyp7.get_data()))))\n",
    "\n",
    "# 8. Parametric effect of loss: Positive effect in amygdala - for the equal range group\n",
    "print('8. Parametric effect of loss: Positive effect in amygdala - for the equal range group')\n",
    "hyp8 = math_img(\"np.logical_and(Amygdala, loss_range > 0)\", Amygdala=Amygdala, loss_range=loss_range)\n",
    "print(sum(sum(sum(hyp8.get_data()))))\n",
    "\n",
    "# 9. Equal range vs. equal indifference: Greater response to losses in amygdala for equal range condition vs. equal indifference condition\n",
    "print('9. Equal range vs. equal indifference: Greater response to losses in amygdala for equal range condition vs. equal indifference condition')\n",
    "hyp9 = math_img(\"np.logical_and(Amygdala, loss_range_vs_indif > 0)\", Amygdala=Amygdala, loss_range_vs_indif=loss_range_vs_indif)\n",
    "print(sum(sum(sum(hyp9.get_data()))))"
   ]
  },
  {
   "cell_type": "code",
   "execution_count": 11,
   "metadata": {},
   "outputs": [
    {
     "name": "stdout",
     "output_type": "stream",
     "text": [
      "False\n",
      "64\n",
      "(97, 115, 81)\n"
     ]
    },
    {
     "name": "stderr",
     "output_type": "stream",
     "text": [
      "/anaconda3/envs/narps/lib/python3.6/site-packages/ipykernel_launcher.py:5: RuntimeWarning: invalid value encountered in greater\n",
      "  \"\"\"\n"
     ]
    }
   ],
   "source": [
    "hypo1_thresh = nib.load(os.path.join(gain_dir, 'hypo1_thresh.nii'))\n",
    "\n",
    "VMPFC_dat = nib.load(os.path.join(res_dir, 'VMPFC.nii.gz'))\n",
    "\n",
    "aa = np.logical_and(np.greater(hypo1_thresh.get_data(), 0), np.greater(VMPFC_dat.get_data(), 0))\n",
    "print(aa.any())\n",
    "\n",
    "greater_0_hypo1_thresh = np.greater(hypo1_thresh.get_data(), 0)\n",
    "print(sum(sum(sum(greater_0_hypo1_thresh))))\n",
    "print(hypo1_thresh.get_data().shape)\n"
   ]
  },
  {
   "cell_type": "code",
   "execution_count": 12,
   "metadata": {},
   "outputs": [
    {
     "data": {
      "text/plain": [
       "'/Volumes/cam/NARPS_out/SPM/level3/gain'"
      ]
     },
     "execution_count": 12,
     "metadata": {},
     "output_type": "execute_result"
    }
   ],
   "source": [
    "gain_dir"
   ]
  },
  {
   "cell_type": "code",
   "execution_count": 13,
   "metadata": {},
   "outputs": [
    {
     "name": "stdout",
     "output_type": "stream",
     "text": [
      "2. Parametric effect of gain: Positive effect in ventromedial PFC - for the equal range group\n",
      "4\n",
      "3. Parametric effect of gain: Positive effect in ventral striatum - for the equal indifference group\n",
      "0\n",
      "4. Parametric effect of gain: Positive effect in ventral striatum - for the equal range group\n",
      "5\n",
      "5. Parametric effect of loss: Negative effect in VMPFC - for the equal indifference group\n",
      "318\n",
      "6. Parametric effect of loss: Negative effect in VMPFC - for the equal range group\n",
      "0\n",
      "7. Parametric effect of loss: Positive effect in amygdala - for the equal indifference group\n",
      "0\n",
      "8. Parametric effect of loss: Positive effect in amygdala - for the equal range group\n",
      "0\n",
      "9. Equal range vs. equal indifference: Greater response to losses in amygdala for equal range condition vs. equal indifference condition\n",
      "0\n"
     ]
    }
   ],
   "source": [
    "# 2. Parametric effect of gain: Positive effect in ventromedial PFC - for the equal range group\n",
    "print('2. Parametric effect of gain: Positive effect in ventromedial PFC - for the equal range group')\n",
    "hyp2 = math_img(\"np.logical_and(VMPFC, gain_range > 0)\", VMPFC=VMPFC, gain_range=gain_range)\n",
    "print(sum(sum(sum(hyp2.get_data()))))\n",
    "\n",
    "# 3. Parametric effect of gain: Positive effect in ventral striatum - for the equal indifference group\n",
    "print('3. Parametric effect of gain: Positive effect in ventral striatum - for the equal indifference group')\n",
    "hyp3 = math_img(\"np.logical_and(VStriatum, gain_indif > 0)\", VStriatum=VStriatum, gain_indif=gain_indif)\n",
    "print(sum(sum(sum(hyp3.get_data()))))\n",
    "\n",
    "# 4. Parametric effect of gain: Positive effect in ventral striatum - for the equal range group\n",
    "print('4. Parametric effect of gain: Positive effect in ventral striatum - for the equal range group')\n",
    "hyp4 = math_img(\"np.logical_and(VStriatum, gain_range > 0)\", VStriatum=VStriatum, gain_range=gain_range)\n",
    "print(sum(sum(sum(hyp4.get_data()))))\n",
    "\n",
    "# 5. Parametric effect of loss: Negative effect in VMPFC - for the equal indifference group\n",
    "print('5. Parametric effect of loss: Negative effect in VMPFC - for the equal indifference group')\n",
    "hyp5 = math_img(\"np.logical_and(VMPFC, loss_indif_neg > 0)\", VMPFC=VMPFC, loss_indif_neg=loss_indif_neg)\n",
    "print(sum(sum(sum(hyp5.get_data()))))\n",
    "\n",
    "# 6. Parametric effect of loss: Negative effect in VMPFC - for the equal range group\n",
    "print('6. Parametric effect of loss: Negative effect in VMPFC - for the equal range group')\n",
    "hyp6 = math_img(\"np.logical_and(VMPFC, loss_range_neg > 0)\", VMPFC=VMPFC, loss_range_neg=loss_range_neg)\n",
    "print(sum(sum(sum(hyp6.get_data()))))\n",
    "\n",
    "# 7. Parametric effect of loss: Positive effect in amygdala - for the equal indifference group\n",
    "print('7. Parametric effect of loss: Positive effect in amygdala - for the equal indifference group')\n",
    "hyp7 = math_img(\"np.logical_and(Amygdala, loss_indif > 0)\", Amygdala=Amygdala, loss_indif=loss_indif)\n",
    "print(sum(sum(sum(hyp7.get_data()))))\n",
    "\n",
    "# 8. Parametric effect of loss: Positive effect in amygdala - for the equal range group\n",
    "print('8. Parametric effect of loss: Positive effect in amygdala - for the equal range group')\n",
    "hyp8 = math_img(\"np.logical_and(Amygdala, loss_range > 0)\", Amygdala=Amygdala, loss_range=loss_range)\n",
    "print(sum(sum(sum(hyp8.get_data()))))\n",
    "\n",
    "# 9. Equal range vs. equal indifference: Greater response to losses in amygdala for equal range condition vs. equal indifference condition\n",
    "print('9. Equal range vs. equal indifference: Greater response to losses in amygdala for equal range condition vs. equal indifference condition')\n",
    "hyp9 = math_img(\"np.logical_and(Amygdala, loss_range_vs_indif > 0)\", Amygdala=Amygdala, loss_range_vs_indif=loss_range_vs_indif)\n",
    "print(sum(sum(sum(hyp9.get_data()))))"
   ]
  }
 ],
 "metadata": {
  "kernelspec": {
   "display_name": "Python [conda env:narps]",
   "language": "python",
   "name": "conda-env-narps-py"
  },
  "language_info": {
   "codemirror_mode": {
    "name": "ipython",
    "version": 3
   },
   "file_extension": ".py",
   "mimetype": "text/x-python",
   "name": "python",
   "nbconvert_exporter": "python",
   "pygments_lexer": "ipython3",
   "version": "3.6.7"
  }
 },
 "nbformat": 4,
 "nbformat_minor": 2
}
