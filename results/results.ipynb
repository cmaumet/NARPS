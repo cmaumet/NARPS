{
 "cells": [
  {
   "cell_type": "code",
   "execution_count": 1,
   "metadata": {},
   "outputs": [],
   "source": [
    "import os\n",
    "import json\n",
    "import nibabel as nib\n",
    "from nilearn.image import math_img\n",
    "import numpy as np\n",
    "from nibabel.processing import resample_from_to"
   ]
  },
  {
   "cell_type": "code",
   "execution_count": 2,
   "metadata": {},
   "outputs": [],
   "source": [
    "# Load config file with path to raw, derived and output data\n",
    "config_file = os.path.join(os.path.abspath(''), os.pardir, 'scripts', 'config.json')\n",
    "with open(config_file) as json_data:\n",
    "    config = json.load(json_data)\n",
    "\n",
    "out_dir = config['output_dir']"
   ]
  },
  {
   "cell_type": "code",
   "execution_count": 3,
   "metadata": {},
   "outputs": [],
   "source": [
    "res_dir = os.path.join(out_dir, 'results')\n",
    "if not os.path.isdir(res_dir):\n",
    "    os.mkdir(res_dir)"
   ]
  },
  {
   "cell_type": "code",
   "execution_count": 4,
   "metadata": {},
   "outputs": [],
   "source": [
    "fsl_dir = os.environ['FSLDIR']\n",
    "atlas_file = os.path.join(fsl_dir, 'data', 'atlases', 'HarvardOxford', 'HarvardOxford-cort-maxprob-thr0-2mm.nii.gz')"
   ]
  },
  {
   "cell_type": "code",
   "execution_count": 5,
   "metadata": {},
   "outputs": [],
   "source": [
    "atlas = nib.load(atlas_file)"
   ]
  },
  {
   "cell_type": "code",
   "execution_count": 14,
   "metadata": {},
   "outputs": [],
   "source": [
    "SPM_dir = os.path.join(out_dir, 'SPM', 'level3')\n",
    "gain_dir = os.path.join(SPM_dir, 'gain')\n",
    "loss_dir = os.path.join(SPM_dir, 'loss')\n",
    "\n",
    "# Boolean image including thresholded activation > 0\n",
    "gain_indif = math_img('np.greater(np.nan_to_num(img1, 0), 0)',\n",
    "                      img1=nib.load(os.path.join(gain_dir, 'hypo1_thresh.nii')))\n",
    "gain_range = math_img('np.greater(np.nan_to_num(img1, 0), 0)',\n",
    "                      img1=nib.load(os.path.join(gain_dir, 'hypo2_thresh.nii')))\n",
    "\n",
    "loss_indif_neg = math_img('np.greater(np.nan_to_num(img1, 0), 0)',\n",
    "                          img1 = nib.load(os.path.join(loss_dir, 'hypo5_thresh.nii')))\n",
    "loss_range_neg = math_img('np.greater(np.nan_to_num(img1, 0), 0)',\n",
    "                          img1=nib.load(os.path.join(loss_dir, 'hypo6_thresh.nii')))\n",
    "loss_indif = math_img('np.greater(np.nan_to_num(img1, 0), 0)',\n",
    "                      img1=nib.load(os.path.join(loss_dir, 'hypo7_thresh.nii')))\n",
    "loss_range = math_img('np.greater(np.nan_to_num(img1, 0), 0)',\n",
    "                      img1=nib.load(os.path.join(loss_dir, 'hypo8_thresh.nii')))\n",
    "loss_range_vs_indif = math_img('np.greater(np.nan_to_num(img1, 0), 0)',\n",
    "                               img1=nib.load(os.path.join(loss_dir, 'hypo9_thresh.nii')))"
   ]
  },
  {
   "cell_type": "code",
   "execution_count": 15,
   "metadata": {},
   "outputs": [
    {
     "name": "stdout",
     "output_type": "stream",
     "text": [
      "(91, 109, 91)\n",
      "(97, 115, 81)\n",
      "(97, 115, 81)\n"
     ]
    }
   ],
   "source": [
    "print(atlas.header.get_data_shape())\n",
    "print(gain_indif.header.get_data_shape())\n",
    "\n",
    "# Reslice atlas on SPM's MNI default resolution using nearest neighbours\n",
    "atlas_spm = resample_from_to(atlas, gain_indif, order=0)\n",
    "atlas_spm.to_filename(os.path.join(res_dir, 'atlas.nii.gz'))\n",
    "print(atlas_spm.header.get_data_shape())"
   ]
  },
  {
   "cell_type": "code",
   "execution_count": 16,
   "metadata": {},
   "outputs": [],
   "source": [
    "VMPFC = math_img(\"atlas == 25\", atlas=atlas_spm)\n",
    "VStriatum = math_img(\"np.logical_or(atlas == 11, atlas == 21)\", atlas=atlas_spm)\n",
    "Amygdala = math_img(\"np.logical_or(atlas == 10, atlas == 20)\", atlas=atlas_spm)\n",
    "\n",
    "# Amygdala = np.logical_or(atlas_spm.get_data() == 10, atlas_spm.get_data() == 20)"
   ]
  },
  {
   "cell_type": "code",
   "execution_count": 17,
   "metadata": {},
   "outputs": [
    {
     "name": "stdout",
     "output_type": "stream",
     "text": [
      "1. Parametric effect of gain: Positive effect in ventromedial PFC - for the equal indifference group\n",
      "0\n",
      "2. Parametric effect of gain: Positive effect in ventromedial PFC - for the equal range group\n",
      "2\n",
      "3. Parametric effect of gain: Positive effect in ventral striatum - for the equal indifference group\n",
      "0\n",
      "4. Parametric effect of gain: Positive effect in ventral striatum - for the equal range group\n",
      "513\n",
      "5. Parametric effect of loss: Negative effect in VMPFC - for the equal indifference group\n",
      "221\n",
      "6. Parametric effect of loss: Negative effect in VMPFC - for the equal range group\n",
      "0\n",
      "7. Parametric effect of loss: Positive effect in amygdala - for the equal indifference group\n",
      "0\n",
      "8. Parametric effect of loss: Positive effect in amygdala - for the equal range group\n",
      "0\n",
      "9. Equal range vs. equal indifference: Greater response to losses in amygdala for equal range condition vs. equal indifference condition\n",
      "0\n"
     ]
    }
   ],
   "source": [
    "# 1. Parametric effect of gain: Positive effect in ventromedial PFC - for the equal indifference group\n",
    "print('1. Parametric effect of gain: Positive effect in ventromedial PFC - for the equal indifference group')\n",
    "hyp1 = math_img(\"np.logical_and(VMPFC, gain_indif)\", VMPFC=VMPFC, gain_indif=gain_indif)\n",
    "print(sum(sum(sum(hyp1.get_data()))))\n",
    "\n",
    "# 2. Parametric effect of gain: Positive effect in ventromedial PFC - for the equal range group\n",
    "print('2. Parametric effect of gain: Positive effect in ventromedial PFC - for the equal range group')\n",
    "hyp2 = math_img(\"np.logical_and(VMPFC, gain_range > 0)\", VMPFC=VMPFC, gain_range=gain_range)\n",
    "print(sum(sum(sum(hyp2.get_data()))))\n",
    "\n",
    "# 3. Parametric effect of gain: Positive effect in ventral striatum - for the equal indifference group\n",
    "print('3. Parametric effect of gain: Positive effect in ventral striatum - for the equal indifference group')\n",
    "hyp3 = math_img(\"np.logical_and(VStriatum, gain_indif > 0)\", VStriatum=VStriatum, gain_indif=gain_indif)\n",
    "print(sum(sum(sum(hyp3.get_data()))))\n",
    "\n",
    "# 4. Parametric effect of gain: Positive effect in ventral striatum - for the equal range group\n",
    "print('4. Parametric effect of gain: Positive effect in ventral striatum - for the equal range group')\n",
    "hyp4 = math_img(\"np.logical_and(VStriatum, gain_range > 0)\", VStriatum=VStriatum, gain_range=gain_range)\n",
    "print(sum(sum(sum(hyp4.get_data()))))\n",
    "\n",
    "# 5. Parametric effect of loss: Negative effect in VMPFC - for the equal indifference group\n",
    "print('5. Parametric effect of loss: Negative effect in VMPFC - for the equal indifference group')\n",
    "hyp5 = math_img(\"np.logical_and(VMPFC, loss_indif_neg > 0)\", VMPFC=VMPFC, loss_indif_neg=loss_indif_neg)\n",
    "print(sum(sum(sum(hyp5.get_data()))))\n",
    "\n",
    "# 6. Parametric effect of loss: Negative effect in VMPFC - for the equal range group\n",
    "print('6. Parametric effect of loss: Negative effect in VMPFC - for the equal range group')\n",
    "hyp6 = math_img(\"np.logical_and(VMPFC, loss_range_neg > 0)\", VMPFC=VMPFC, loss_range_neg=loss_range_neg)\n",
    "print(sum(sum(sum(hyp6.get_data()))))\n",
    "\n",
    "# 7. Parametric effect of loss: Positive effect in amygdala - for the equal indifference group\n",
    "print('7. Parametric effect of loss: Positive effect in amygdala - for the equal indifference group')\n",
    "hyp7 = math_img(\"np.logical_and(Amygdala, loss_indif > 0)\", Amygdala=Amygdala, loss_indif=loss_indif)\n",
    "print(sum(sum(sum(hyp7.get_data()))))\n",
    "\n",
    "# 8. Parametric effect of loss: Positive effect in amygdala - for the equal range group\n",
    "print('8. Parametric effect of loss: Positive effect in amygdala - for the equal range group')\n",
    "hyp8 = math_img(\"np.logical_and(Amygdala, loss_range > 0)\", Amygdala=Amygdala, loss_range=loss_range)\n",
    "print(sum(sum(sum(hyp8.get_data()))))\n",
    "\n",
    "# 9. Equal range vs. equal indifference: Greater response to losses in amygdala for equal range condition vs. equal indifference condition\n",
    "print('9. Equal range vs. equal indifference: Greater response to losses in amygdala for equal range condition vs. equal indifference condition')\n",
    "hyp9 = math_img(\"np.logical_and(Amygdala, loss_range_vs_indif > 0)\", Amygdala=Amygdala, loss_range_vs_indif=loss_range_vs_indif)\n",
    "print(sum(sum(sum(hyp9.get_data()))))"
   ]
  },
  {
   "cell_type": "code",
   "execution_count": null,
   "metadata": {},
   "outputs": [],
   "source": []
  }
 ],
 "metadata": {
  "kernelspec": {
   "display_name": "Python [conda env:narps]",
   "language": "python",
   "name": "conda-env-narps-py"
  },
  "language_info": {
   "codemirror_mode": {
    "name": "ipython",
    "version": 3
   },
   "file_extension": ".py",
   "mimetype": "text/x-python",
   "name": "python",
   "nbconvert_exporter": "python",
   "pygments_lexer": "ipython3",
   "version": "3.6.7"
  }
 },
 "nbformat": 4,
 "nbformat_minor": 2
}
