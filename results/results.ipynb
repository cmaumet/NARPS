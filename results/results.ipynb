{
 "cells": [
  {
   "cell_type": "code",
   "execution_count": 41,
   "metadata": {},
   "outputs": [],
   "source": [
    "import os\n",
    "import json\n",
    "import nibabel as nib\n",
    "import numpy as np\n",
    "from nibabel.processing import resample_from_to"
   ]
  },
  {
   "cell_type": "code",
   "execution_count": 14,
   "metadata": {},
   "outputs": [],
   "source": [
    "# Load config file with path to raw, derived and output data\n",
    "config_file = os.path.join(os.path.abspath(''), os.pardir, 'scripts', 'config.json')\n",
    "with open(config_file) as json_data:\n",
    "    config = json.load(json_data)\n",
    "\n",
    "out_dir = config['output_dir']"
   ]
  },
  {
   "cell_type": "code",
   "execution_count": 8,
   "metadata": {},
   "outputs": [],
   "source": [
    "fsl_dir = os.environ['FSLDIR']\n",
    "atlas_file = os.path.join(fsl_dir, 'data', 'atlases', 'HarvardOxford', 'HarvardOxford-cort-maxprob-thr0-2mm.nii.gz')"
   ]
  },
  {
   "cell_type": "code",
   "execution_count": 11,
   "metadata": {},
   "outputs": [],
   "source": [
    "atlas = nib.load(atlas_file)"
   ]
  },
  {
   "cell_type": "code",
   "execution_count": 44,
   "metadata": {},
   "outputs": [],
   "source": [
    "res_dir = os.path.join(out_dir, 'SPM', 'level3')\n",
    "gain_dir = os.path.join(res_dir, 'gain')\n",
    "loss_dir = os.path.join(res_dir, 'loss')\n",
    "\n",
    "gain_indif = nib.load(os.path.join(gain_dir, 'spmT_0001_thresh_.nii')).get_data()\n",
    "gain_range = nib.load(os.path.join(gain_dir, 'spmT_0002_thresh_.nii')).get_data()\n",
    "\n",
    "loss_indif_neg = nib.load(os.path.join(loss_dir, 'spmT_0001_thresh_.nii')).get_data()\n",
    "loss_range_neg = nib.load(os.path.join(loss_dir, 'spmT_0002_thresh_.nii')).get_data()\n",
    "loss_indif = nib.load(os.path.join(loss_dir, 'spmT_0003_thresh_.nii')).get_data()\n",
    "loss_range = nib.load(os.path.join(loss_dir, 'spmT_0004_thresh_.nii')).get_data()\n",
    "loss_range_vs_indif = nib.load(os.path.join(loss_dir, 'spmT_0005_thresh_.nii')).get_data()"
   ]
  },
  {
   "cell_type": "code",
   "execution_count": 36,
   "metadata": {},
   "outputs": [
    {
     "name": "stdout",
     "output_type": "stream",
     "text": [
      "(91, 109, 91)\n",
      "(97, 115, 81)\n",
      "(97, 115, 81)\n"
     ]
    }
   ],
   "source": [
    "print(atlas.header.get_data_shape())\n",
    "print(gain_indif.header.get_data_shape())\n",
    "\n",
    "# Reslice atlas on SPM's MNI default resolution using nearest neighbours\n",
    "atlas_spm = resample_from_to(atlas, gain_indif, order=0)\n",
    "print(atlas_spm.header.get_data_shape())"
   ]
  },
  {
   "cell_type": "code",
   "execution_count": 43,
   "metadata": {},
   "outputs": [],
   "source": [
    "VMPFC = atlas_spm.get_data() == 25\n",
    "VStriatum = np.logical_or(atlas_spm.get_data() == 11, atlas_spm.get_data() == 21)\n",
    "Amygdala = np.logical_or(atlas_spm.get_data() == 10, atlas_spm.get_data() == 20)"
   ]
  },
  {
   "cell_type": "code",
   "execution_count": 55,
   "metadata": {},
   "outputs": [
    {
     "name": "stdout",
     "output_type": "stream",
     "text": [
      "1. Parametric effect of gain: Positive effect in ventromedial PFC - for the equal indifference group\n",
      "1\n",
      "2. Parametric effect of gain: Positive effect in ventromedial PFC - for the equal range group\n",
      "0\n",
      "3. Parametric effect of gain: Positive effect in ventral striatum - for the equal indifference group\n",
      "0\n",
      "4. Parametric effect of gain: Positive effect in ventral striatum - for the equal range group\n",
      "560\n",
      "5. Parametric effect of loss: Negative effect in VMPFC - for the equal indifference group\n",
      "403\n",
      "6. Parametric effect of loss: Negative effect in VMPFC - for the equal range group\n",
      "0\n",
      "7. Parametric effect of loss: Positive effect in amygdala - for the equal indifference group\n",
      "0\n",
      "8. Parametric effect of loss: Positive effect in amygdala - for the equal range group\n",
      "0\n",
      "9. Equal range vs. equal indifference: Greater response to losses in amygdala for equal range condition vs. equal indifference condition\n",
      "0\n"
     ]
    },
    {
     "name": "stderr",
     "output_type": "stream",
     "text": [
      "/anaconda3/envs/narps/lib/python3.6/site-packages/ipykernel_launcher.py:3: RuntimeWarning: invalid value encountered in greater\n",
      "  This is separate from the ipykernel package so we can avoid doing imports until\n",
      "/anaconda3/envs/narps/lib/python3.6/site-packages/ipykernel_launcher.py:8: RuntimeWarning: invalid value encountered in greater\n",
      "  \n",
      "/anaconda3/envs/narps/lib/python3.6/site-packages/ipykernel_launcher.py:13: RuntimeWarning: invalid value encountered in greater\n",
      "  del sys.path[0]\n",
      "/anaconda3/envs/narps/lib/python3.6/site-packages/ipykernel_launcher.py:18: RuntimeWarning: invalid value encountered in greater\n",
      "/anaconda3/envs/narps/lib/python3.6/site-packages/ipykernel_launcher.py:23: RuntimeWarning: invalid value encountered in greater\n",
      "/anaconda3/envs/narps/lib/python3.6/site-packages/ipykernel_launcher.py:28: RuntimeWarning: invalid value encountered in greater\n",
      "/anaconda3/envs/narps/lib/python3.6/site-packages/ipykernel_launcher.py:33: RuntimeWarning: invalid value encountered in greater\n"
     ]
    }
   ],
   "source": [
    "# 1. Parametric effect of gain: Positive effect in ventromedial PFC - for the equal indifference group\n",
    "print('1. Parametric effect of gain: Positive effect in ventromedial PFC - for the equal indifference group')\n",
    "hyp1 = sum(sum(sum(np.logical_and((gain_indif>0), VMPFC))))\n",
    "print(hyp1)\n",
    "\n",
    "# 2. Parametric effect of gain: Positive effect in ventromedial PFC - for the equal range group\n",
    "print('2. Parametric effect of gain: Positive effect in ventromedial PFC - for the equal range group')\n",
    "hyp2 = sum(sum(sum(np.logical_and((gain_range>0), VMPFC))))\n",
    "print(hyp2)\n",
    "\n",
    "# 3. Parametric effect of gain: Positive effect in ventral striatum - for the equal indifference group\n",
    "print('3. Parametric effect of gain: Positive effect in ventral striatum - for the equal indifference group')\n",
    "hyp3 = sum(sum(sum(np.logical_and((gain_indif>0), VStriatum))))\n",
    "print(hyp3)\n",
    "\n",
    "# 4. Parametric effect of gain: Positive effect in ventral striatum - for the equal range group\n",
    "print('4. Parametric effect of gain: Positive effect in ventral striatum - for the equal range group')\n",
    "hyp4 = sum(sum(sum(np.logical_and((gain_range>0), VStriatum))))\n",
    "print(hyp4)\n",
    "\n",
    "# 5. Parametric effect of loss: Negative effect in VMPFC - for the equal indifference group\n",
    "print('5. Parametric effect of loss: Negative effect in VMPFC - for the equal indifference group')\n",
    "hyp5 = sum(sum(sum(np.logical_and((loss_indif_neg>0), VMPFC))))\n",
    "print(hyp5)\n",
    "\n",
    "# 6. Parametric effect of loss: Negative effect in VMPFC - for the equal range group\n",
    "print('6. Parametric effect of loss: Negative effect in VMPFC - for the equal range group')\n",
    "hyp6 = sum(sum(sum(np.logical_and((loss_range_neg>0), VMPFC))))\n",
    "print(hyp6)\n",
    "\n",
    "# 7. Parametric effect of loss: Positive effect in amygdala - for the equal indifference group\n",
    "print('7. Parametric effect of loss: Positive effect in amygdala - for the equal indifference group')\n",
    "hyp7 = sum(sum(sum(np.logical_and((loss_indif>0), Amygdala))))\n",
    "print(hyp7)\n",
    "\n",
    "# 8. Parametric effect of loss: Positive effect in amygdala - for the equal range group\n",
    "print('8. Parametric effect of loss: Positive effect in amygdala - for the equal range group')\n",
    "hyp8 = sum(sum(sum(np.logical_and((loss_range>0), Amygdala))))\n",
    "print(hyp8)\n",
    "\n",
    "# 9. Equal range vs. equal indifference: Greater response to losses in amygdala for equal range condition vs. equal indifference condition\n",
    "print('9. Equal range vs. equal indifference: Greater response to losses in amygdala for equal range condition vs. equal indifference condition')\n",
    "hyp9 = sum(sum(sum(np.logical_and((loss_range_vs_indif>0), Amygdala))))\n",
    "print(hyp9)"
   ]
  },
  {
   "cell_type": "code",
   "execution_count": 50,
   "metadata": {},
   "outputs": [
    {
     "data": {
      "text/plain": [
       "1"
      ]
     },
     "execution_count": 50,
     "metadata": {},
     "output_type": "execute_result"
    }
   ],
   "source": [
    "hyp1"
   ]
  }
 ],
 "metadata": {
  "kernelspec": {
   "display_name": "Python [conda env:narps]",
   "language": "python",
   "name": "conda-env-narps-py"
  },
  "language_info": {
   "codemirror_mode": {
    "name": "ipython",
    "version": 3
   },
   "file_extension": ".py",
   "mimetype": "text/x-python",
   "name": "python",
   "nbconvert_exporter": "python",
   "pygments_lexer": "ipython3",
   "version": "3.6.7"
  }
 },
 "nbformat": 4,
 "nbformat_minor": 2
}
