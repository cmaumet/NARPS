{
 "cells": [
  {
   "cell_type": "code",
   "execution_count": 48,
   "metadata": {},
   "outputs": [],
   "source": [
    "import glob\n",
    "import pandas as pd\n",
    "import re"
   ]
  },
  {
   "cell_type": "code",
   "execution_count": 13,
   "metadata": {},
   "outputs": [],
   "source": [
    "import os\n",
    "import json\n",
    "\n",
    "config_file = os.path.join(os.path.abspath(''), os.pardir, 'scripts', 'config.json')\n",
    "with open(config_file) as json_data:\n",
    "    config = json.load(json_data)\n",
    "\n",
    "fmriprep_dir = config['fmriprep_dir']"
   ]
  },
  {
   "cell_type": "code",
   "execution_count": 50,
   "metadata": {},
   "outputs": [
    {
     "name": "stdout",
     "output_type": "stream",
     "text": [
      "['sub-013_task-MGT_run-04', 'sub-016_task-MGT_run-01', 'sub-016_task-MGT_run-03', 'sub-016_task-MGT_run-04', 'sub-018_task-MGT_run-01', 'sub-018_task-MGT_run-02', 'sub-018_task-MGT_run-03', 'sub-018_task-MGT_run-04', 'sub-022_task-MGT_run-02', 'sub-026_task-MGT_run-01', 'sub-026_task-MGT_run-04', 'sub-030_task-MGT_run-01', 'sub-030_task-MGT_run-02', 'sub-030_task-MGT_run-03', 'sub-030_task-MGT_run-04', 'sub-036_task-MGT_run-02', 'sub-037_task-MGT_run-03', 'sub-068_task-MGT_run-02', 'sub-088_task-MGT_run-02', 'sub-088_task-MGT_run-03', 'sub-088_task-MGT_run-04', 'sub-089_task-MGT_run-03', 'sub-093_task-MGT_run-04', 'sub-100_task-MGT_run-02', 'sub-100_task-MGT_run-04', 'sub-106_task-MGT_run-03', 'sub-106_task-MGT_run-04', 'sub-110_task-MGT_run-01', 'sub-110_task-MGT_run-03', 'sub-110_task-MGT_run-04', 'sub-116_task-MGT_run-01', 'sub-116_task-MGT_run-02', 'sub-116_task-MGT_run-03', 'sub-116_task-MGT_run-04', 'sub-120_task-MGT_run-02']\n"
     ]
    }
   ],
   "source": [
    "os.listdir(fmriprep_dir)\n",
    "glob_str = os.path.join(fmriprep_dir, 'sub-*', 'func', '*_confounds.tsv')\n",
    "counfound_files = glob.glob(glob_str)\n",
    "\n",
    "to_check = []\n",
    "\n",
    "for confound_file in counfound_files:\n",
    "    df = pd.read_csv(confound_file, delimiter='\\t')\n",
    "    fd = df['FramewiseDisplacement']\n",
    "    \n",
    "    if (any(fd>2)):\n",
    "        m = re.search('(sub-\\d+_task-MGT_run-\\d+)', confound_file)\n",
    "        if m:\n",
    "            sub_run = m.group(1)\n",
    "        else:\n",
    "            raise Exception('sub_run not found in ' + confound_file)\n",
    "        to_check.append(sub_run)\n",
    "        \n",
    "print(to_check)"
   ]
  }
 ],
 "metadata": {
  "kernelspec": {
   "display_name": "Python 3",
   "language": "python",
   "name": "python3"
  },
  "language_info": {
   "codemirror_mode": {
    "name": "ipython",
    "version": 3
   },
   "file_extension": ".py",
   "mimetype": "text/x-python",
   "name": "python",
   "nbconvert_exporter": "python",
   "pygments_lexer": "ipython3",
   "version": "3.7.0"
  }
 },
 "nbformat": 4,
 "nbformat_minor": 2
}
